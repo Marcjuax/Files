{
  "nbformat": 4,
  "nbformat_minor": 0,
  "metadata": {
    "colab": {
      "name": "Taller_8 (2).ipynb",
      "provenance": [],
      "collapsed_sections": [],
      "include_colab_link": true
    },
    "kernelspec": {
      "name": "python3",
      "display_name": "Python 3"
    }
  },
  "cells": [
    {
      "cell_type": "markdown",
      "metadata": {
        "id": "view-in-github",
        "colab_type": "text"
      },
      "source": [
        "<a href=\"https://colab.research.google.com/github/Marcjuax/Files/blob/main/Taller_8.ipynb\" target=\"_parent\"><img src=\"https://colab.research.google.com/assets/colab-badge.svg\" alt=\"Open In Colab\"/></a>"
      ]
    },
    {
      "cell_type": "markdown",
      "metadata": {
        "id": "e1cC8CdVx-fS"
      },
      "source": [
        "## Taller 8\n",
        "\n",
        "### Datos del estudiante:\n",
        "\n",
        "**Nombre:Juan Camilo Reales Crespo** \n",
        "\n",
        "**Código:202015555** "
      ]
    },
    {
      "cell_type": "markdown",
      "metadata": {
        "id": "NE01pduym1-v"
      },
      "source": [
        "**1)** Con una línea de código clone el repositorio \n",
        "\n",
        "[https://github.com/Dacastror/datos_para_ajustar.git](https://github.com/Dacastror/datos_para_ajustar.git)  \n",
        "\n",
        "En la carpeta \"*datos*\" de este repositorio hay un archivo llamado \"*población_mundial_por_año.txt*\". En este archivo la primera columna corresponde al año y la segunda a la población mundial en ese año. Cargue los datos con Numpy de forma que en una variable tenga los años y en otra la población. Grafique los datos cargados, colocar los años en el eje horizontal. Usando máscaras aplicadas a los arreglos de Python, seleccione solamente las parejas de datos entre los años $1970$ hasta $2019$. Imprima en pantalla los datos seleccionados. \n",
        "\n",
        "Usando la función llamada \"ajuste_lineal\" creada en clase, encuentre los parámetros de la recta que mejor ajusta los datos seleccionados. Grafique estos datos junto con la recta encontrada. Use la función de la recta encontrada para predecir la población en el año $2025$ y en el año $2035$, asumiendo que la tendencia de este periodo de tiempo continuará. \n",
        "\n",
        "\n",
        "**Bono:** Seleccione las parejas de datos entre el año $700$ al $1900$ usando máscaras. Agregue las columnas necesarias a la matriz $\\textbf{P}$ como se mencionó en clase para que pueda obtener los $6$ parámetros de un ajuste polinómico de grado $5$ usando la ecuación $\\vec v^{*}=(\\textbf P^{\\intercal}\\textbf{P})^{-1}\\textbf P^{\\intercal}\\vec y$. Grafique el polinomio de ajuste con una línea continua y los datos representados con puntos. Use este polinomio para estimar la población de los años $1473$, $1564$, $1643$, $1831$ y $1879$.\n"
      ]
    },
    {
      "cell_type": "code",
      "metadata": {
        "id": "iNZN0J6iMtY-"
      },
      "source": [
        "from scipy.optimize import curve_fit\n",
        "import matplotlib.pyplot as plt\n",
        "import numpy as np\n",
        "plt.style.use('dark_background')"
      ],
      "execution_count": 2,
      "outputs": []
    },
    {
      "cell_type": "code",
      "metadata": {
        "id": "7zvF52Jym2eU",
        "colab": {
          "base_uri": "https://localhost:8080/"
        },
        "outputId": "ce125d04-e36f-4667-89e0-33c4659c2b5f"
      },
      "source": [
        "#Respuesta\n",
        "! git clone https://github.com/Dacastror/datos_para_ajustar.git"
      ],
      "execution_count": 3,
      "outputs": [
        {
          "output_type": "stream",
          "name": "stdout",
          "text": [
            "Cloning into 'datos_para_ajustar'...\n",
            "remote: Enumerating objects: 45, done.\u001b[K\n",
            "remote: Counting objects: 100% (45/45), done.\u001b[K\n",
            "remote: Compressing objects: 100% (41/41), done.\u001b[K\n",
            "remote: Total 45 (delta 2), reused 44 (delta 1), pack-reused 0\u001b[K\n",
            "Unpacking objects: 100% (45/45), done.\n"
          ]
        }
      ]
    },
    {
      "cell_type": "code",
      "metadata": {
        "colab": {
          "base_uri": "https://localhost:8080/",
          "height": 290
        },
        "id": "q0rfR-Lvr1pj",
        "outputId": "7d60c15c-99c2-43ee-ab1c-7ec46f406408"
      },
      "source": [
        "data = np.loadtxt(\"datos_para_ajustar/datos/población_mundial_por_año.txt\")\n",
        "población_mundial_de_ese_año = data[:,1].astype(int)\n",
        "años = data[:,0].astype(int)\n",
        "x, y = años, población_mundial_de_ese_año\n",
        "mascara = x>=1970\n",
        "plt.plot(x[mascara],y[mascara],label=\"Población\",c ='#34ebd5')\n",
        "plt.scatter(x[mascara],y[mascara],c=\"yellow\",s=10)\n",
        "plt.grid()\n",
        "plt.legend()\n",
        "plt.xlabel('Años')\n",
        "plt.ylabel('Población mundial')\n",
        "plt.show()"
      ],
      "execution_count": 38,
      "outputs": [
        {
          "output_type": "display_data",
          "data": {
            "image/png": "[encoded data removed]",
            "text/plain": [
              "<Figure size 432x288 with 1 Axes>"
            ]
          },
          "metadata": {}
        }
      ]
    },
    {
      "cell_type": "code",
      "metadata": {
        "id": "hkxwQ35ktucM"
      },
      "source": [
        ""
      ],
      "execution_count": 84,
      "outputs": []
    },
    {
      "cell_type": "code",
      "metadata": {
        "colab": {
          "base_uri": "https://localhost:8080/",
          "height": 293
        },
        "id": "-FmFScNtdh5v",
        "outputId": "d2b8f50a-786c-4a15-d56a-0f5a89179d62"
      },
      "source": [
        "def ajuste_lineal(x,y):\n",
        "  n = len(x)\n",
        "  sumx = np.sum(x)\n",
        "  sumy = np.sum(y)\n",
        "  m = (np.sum(x*y) - sumx*sumy/n)/(np.sum(x*x)-sumx**2/n)\n",
        "  b = sumy/n - sumx*m/n\n",
        "  return m,bin\n",
        "\n",
        "m,b = ajuste_lineal(x,y)\n",
        "print(m,b)\n",
        "plt.plot(x[mascara],y[mascara],'.')\n",
        "b = 0\n",
        "plt.plot(x[mascara],m*x[mascara]+b,'r',label=f\"{np.round(m,2)}x\")\n",
        "plt.legend()\n",
        "plt.show()\n"
      ],
      "execution_count": 39,
      "outputs": [
        {
          "output_type": "stream",
          "name": "stdout",
          "text": [
            "2790476.951912348 <built-in function bin>\n"
          ]
        },
        {
          "output_type": "display_data",
          "data": {
            "image/png": "[encoded data removed]",
            "text/plain": [
              "<Figure size 432x288 with 1 Axes>"
            ]
          },
          "metadata": {}
        }
      ]
    },
    {
      "cell_type": "code",
      "metadata": {
        "colab": {
          "base_uri": "https://localhost:8080/",
          "height": 312
        },
        "id": "w_8IutQLhBt-",
        "outputId": "355131ae-fd29-4ba9-df9a-846ddd5c7e4e"
      },
      "source": [
        "# Función de la recta: y = 2790476.95x\n",
        "x1 = [2025,2035]\n",
        "y1 = [x1[0]*2790477,x1[1]*2790477]\n",
        "plt.plot(x1,y1,label=\"Población\",c=\"#60e08b\")\n",
        "plt.title(\"Predición de población\")\n",
        "plt.scatter(x1,y1)\n",
        "plt.grid()\n",
        "plt.legend()\n",
        "plt.xlabel(\"2025-2035\")\n",
        "plt.ylabel('Población mundial')\n",
        "plt.show()\n",
        "\n",
        "prediccion = \"Predicción: En el 2025 la población será de aproximadamente \"+str(2025*2790477)+\" habitantes y en el 2035 será de aproximadamente \"+str(2035*2790477)+\" habitantes.\"\n",
        "print(prediccion)"
      ],
      "execution_count": 40,
      "outputs": [
        {
          "output_type": "display_data",
          "data": {
            "image/png": "[encoded data removed]",
            "text/plain": [
              "<Figure size 432x288 with 1 Axes>"
            ]
          },
          "metadata": {}
        },
        {
          "output_type": "stream",
          "name": "stdout",
          "text": [
            "Predicción: En el 2025 la población será de aproximadamente 5650715925 habitantes y en el 2035 será de aproximadamente 5678620695 habitantes.\n"
          ]
        }
      ]
    },
    {
      "cell_type": "markdown",
      "metadata": {
        "id": "QMswpDn3qhNW"
      },
      "source": [
        "**2)** En la carpeta \"*datos*\" del repositorio que clonó en el punto $1$ se encuentran archivos nombrados con la palabra \"*codigo*\", guion bajo y un número. De acuerdo al último dígito de su código de estudiante seleccione el archivo con el que trabajará. Con este mismo dígito seleccione La función de ajuste que encuentra en la siguiente tabla: \n",
        "\n",
        "  \\begin{array}{r|l} \n",
        "  \\text{Dígito} & \\text{Función de ajuste}\\\\ \n",
        "  \\hline \n",
        "  0 & f(x) = ax^3 + bx^2 + cx + d\\\\ \n",
        "  1 & f(x) = a\\exp{\\left(\\frac{-(x-b)^2}{c}\\right)}+d\\\\ \n",
        "  2 & f(x) = \\frac{a}{b+\\exp(c-x)}+d\\\\ \n",
        "  3 & f(x) = \\frac{a}{b+\\exp(1-x)}\\\\ \n",
        "  4 & f(x) = a+b\\cos(cx+d)\\\\ \n",
        "  5 & f(x) = \\frac{a}{\\pi((x-b)^2+a^2)}\\\\ \n",
        "  6 & f(x) = a + bx + c\\exp\\left(\\frac{-(x-d)^2}{e}\\right)\\\\ \n",
        "  7 & f(x) = a + b\\sqrt{cx+d}\\\\ \n",
        "  8 & f(x) = ax^b\\\\ \n",
        "  9 & f(x) = \\frac{-a}{a^2+(x-b)^2} \\\\ \n",
        "  \\end{array} \n",
        "\n",
        "Cargue los datos con Numpy. Utilice la librería Scipy y función de ajuste que le correspondió para encontrar los parámetros de ajuste ($a$, $b$,...). Grafique los datos descargados como puntos sin unir con línea y el ajuste obtenido como una línea continua, ambos en una única gráfica, utilice colores diferentes para la línea de ajuste y los datos. En la carpeta llamada \"*ejemplos_de_resultados_esperados*\" Puede observar el resultado que se espera obtener. \n",
        "Imprimir en pantalla los valores de los coeficientes obtenidos. evalúe la función de ajuste obtenida en $x=2.4$ y $x=4.5$. Incluya estos puntos ($x$, $f(x)$) en la gráfica realizada anteriormente y asígneles un color diferente al color de la línea o el de los datos. "
      ]
    },
    {
      "cell_type": "code",
      "metadata": {
        "id": "WVcQgu8vqhmr",
        "colab": {
          "base_uri": "https://localhost:8080/",
          "height": 469
        },
        "outputId": "7bc0054e-3891-4704-9786-20ff9e82fd9b"
      },
      "source": [
        "#Respuesta\n",
        "data2 = np.loadtxt(\"datos_para_ajustar/datos/codigo_5.dat\")\n",
        "#Función de ajuste : No.5\n",
        "pi = np.pi\n",
        "def f(x,a,b,c,pi):\n",
        "  return a*(1/pi*(x-b)**2 + a**2)\n",
        "x = data2.astype(float)\n",
        "y = f(x,0.8,0.4,0.1,pi).astype(float)\n",
        "\n",
        "coef, cov = curve_fit(f,x,y)\n",
        "plt.plot(x,y,'.')\n",
        "plt.plot(x,f(x, *coef),'r')\n",
        "plt.sho()\n",
        "\n",
        "print(\"Coeficientes de la función: \"+ str(coef))\n",
        "print(\"Covarianza de coeficientes: \"+str(cov))"
      ],
      "execution_count": 64,
      "outputs": [
        {
          "output_type": "error",
          "ename": "ValueError",
          "evalue": "ignored",
          "traceback": [
            "\u001b[0;31m---------------------------------------------------------------------------\u001b[0m",
            "\u001b[0;31mValueError\u001b[0m                                Traceback (most recent call last)",
            "\u001b[0;31mValueError\u001b[0m: object too deep for desired array"
          ]
        },
        {
          "output_type": "error",
          "ename": "error",
          "evalue": "ignored",
          "traceback": [
            "\u001b[0;31m---------------------------------------------------------------------------\u001b[0m",
            "\u001b[0;31merror\u001b[0m                                     Traceback (most recent call last)",
            "\u001b[0;32m<ipython-input-64-070b5baa7c9e>\u001b[0m in \u001b[0;36m<module>\u001b[0;34m()\u001b[0m\n\u001b[1;32m      8\u001b[0m \u001b[0my\u001b[0m \u001b[0;34m=\u001b[0m \u001b[0mf\u001b[0m\u001b[0;34m(\u001b[0m\u001b[0mx\u001b[0m\u001b[0;34m,\u001b[0m\u001b[0;36m0.8\u001b[0m\u001b[0;34m,\u001b[0m\u001b[0;36m0.4\u001b[0m\u001b[0;34m,\u001b[0m\u001b[0;36m0.1\u001b[0m\u001b[0;34m,\u001b[0m\u001b[0mpi\u001b[0m\u001b[0;34m)\u001b[0m\u001b[0;34m.\u001b[0m\u001b[0mastype\u001b[0m\u001b[0;34m(\u001b[0m\u001b[0mfloat\u001b[0m\u001b[0;34m)\u001b[0m\u001b[0;34m\u001b[0m\u001b[0;34m\u001b[0m\u001b[0m\n\u001b[1;32m      9\u001b[0m \u001b[0;34m\u001b[0m\u001b[0m\n\u001b[0;32m---> 10\u001b[0;31m \u001b[0mcoef\u001b[0m\u001b[0;34m,\u001b[0m \u001b[0mcov\u001b[0m \u001b[0;34m=\u001b[0m \u001b[0mcurve_fit\u001b[0m\u001b[0;34m(\u001b[0m\u001b[0mf\u001b[0m\u001b[0;34m,\u001b[0m\u001b[0mx\u001b[0m\u001b[0;34m,\u001b[0m\u001b[0my\u001b[0m\u001b[0;34m)\u001b[0m\u001b[0;34m\u001b[0m\u001b[0;34m\u001b[0m\u001b[0m\n\u001b[0m\u001b[1;32m     11\u001b[0m \u001b[0mplt\u001b[0m\u001b[0;34m.\u001b[0m\u001b[0mplot\u001b[0m\u001b[0;34m(\u001b[0m\u001b[0mx\u001b[0m\u001b[0;34m,\u001b[0m\u001b[0my\u001b[0m\u001b[0;34m,\u001b[0m\u001b[0;34m'.'\u001b[0m\u001b[0;34m)\u001b[0m\u001b[0;34m\u001b[0m\u001b[0;34m\u001b[0m\u001b[0m\n\u001b[1;32m     12\u001b[0m \u001b[0mplt\u001b[0m\u001b[0;34m.\u001b[0m\u001b[0mplot\u001b[0m\u001b[0;34m(\u001b[0m\u001b[0mx\u001b[0m\u001b[0;34m,\u001b[0m\u001b[0mf\u001b[0m\u001b[0;34m(\u001b[0m\u001b[0mx\u001b[0m\u001b[0;34m,\u001b[0m \u001b[0;34m*\u001b[0m\u001b[0mcoef\u001b[0m\u001b[0;34m)\u001b[0m\u001b[0;34m,\u001b[0m\u001b[0;34m'r'\u001b[0m\u001b[0;34m)\u001b[0m\u001b[0;34m\u001b[0m\u001b[0;34m\u001b[0m\u001b[0m\n",
            "\u001b[0;32m/usr/local/lib/python3.7/dist-packages/scipy/optimize/minpack.py\u001b[0m in \u001b[0;36mcurve_fit\u001b[0;34m(f, xdata, ydata, p0, sigma, absolute_sigma, check_finite, bounds, method, jac, **kwargs)\u001b[0m\n\u001b[1;32m    761\u001b[0m         \u001b[0;31m# Remove full_output from kwargs, otherwise we're passing it in twice.\u001b[0m\u001b[0;34m\u001b[0m\u001b[0;34m\u001b[0m\u001b[0;34m\u001b[0m\u001b[0m\n\u001b[1;32m    762\u001b[0m         \u001b[0mreturn_full\u001b[0m \u001b[0;34m=\u001b[0m \u001b[0mkwargs\u001b[0m\u001b[0;34m.\u001b[0m\u001b[0mpop\u001b[0m\u001b[0;34m(\u001b[0m\u001b[0;34m'full_output'\u001b[0m\u001b[0;34m,\u001b[0m \u001b[0;32mFalse\u001b[0m\u001b[0;34m)\u001b[0m\u001b[0;34m\u001b[0m\u001b[0;34m\u001b[0m\u001b[0m\n\u001b[0;32m--> 763\u001b[0;31m         \u001b[0mres\u001b[0m \u001b[0;34m=\u001b[0m \u001b[0mleastsq\u001b[0m\u001b[0;34m(\u001b[0m\u001b[0mfunc\u001b[0m\u001b[0;34m,\u001b[0m \u001b[0mp0\u001b[0m\u001b[0;34m,\u001b[0m \u001b[0mDfun\u001b[0m\u001b[0;34m=\u001b[0m\u001b[0mjac\u001b[0m\u001b[0;34m,\u001b[0m \u001b[0mfull_output\u001b[0m\u001b[0;34m=\u001b[0m\u001b[0;36m1\u001b[0m\u001b[0;34m,\u001b[0m \u001b[0;34m**\u001b[0m\u001b[0mkwargs\u001b[0m\u001b[0;34m)\u001b[0m\u001b[0;34m\u001b[0m\u001b[0;34m\u001b[0m\u001b[0m\n\u001b[0m\u001b[1;32m    764\u001b[0m         \u001b[0mpopt\u001b[0m\u001b[0;34m,\u001b[0m \u001b[0mpcov\u001b[0m\u001b[0;34m,\u001b[0m \u001b[0minfodict\u001b[0m\u001b[0;34m,\u001b[0m \u001b[0merrmsg\u001b[0m\u001b[0;34m,\u001b[0m \u001b[0mier\u001b[0m \u001b[0;34m=\u001b[0m \u001b[0mres\u001b[0m\u001b[0;34m\u001b[0m\u001b[0;34m\u001b[0m\u001b[0m\n\u001b[1;32m    765\u001b[0m         \u001b[0mysize\u001b[0m \u001b[0;34m=\u001b[0m \u001b[0mlen\u001b[0m\u001b[0;34m(\u001b[0m\u001b[0minfodict\u001b[0m\u001b[0;34m[\u001b[0m\u001b[0;34m'fvec'\u001b[0m\u001b[0;34m]\u001b[0m\u001b[0;34m)\u001b[0m\u001b[0;34m\u001b[0m\u001b[0;34m\u001b[0m\u001b[0m\n",
            "\u001b[0;32m/usr/local/lib/python3.7/dist-packages/scipy/optimize/minpack.py\u001b[0m in \u001b[0;36mleastsq\u001b[0;34m(func, x0, args, Dfun, full_output, col_deriv, ftol, xtol, gtol, maxfev, epsfcn, factor, diag)\u001b[0m\n\u001b[1;32m    399\u001b[0m             \u001b[0mmaxfev\u001b[0m \u001b[0;34m=\u001b[0m \u001b[0;36m200\u001b[0m\u001b[0;34m*\u001b[0m\u001b[0;34m(\u001b[0m\u001b[0mn\u001b[0m \u001b[0;34m+\u001b[0m \u001b[0;36m1\u001b[0m\u001b[0;34m)\u001b[0m\u001b[0;34m\u001b[0m\u001b[0;34m\u001b[0m\u001b[0m\n\u001b[1;32m    400\u001b[0m         retval = _minpack._lmdif(func, x0, args, full_output, ftol, xtol,\n\u001b[0;32m--> 401\u001b[0;31m                                  gtol, maxfev, epsfcn, factor, diag)\n\u001b[0m\u001b[1;32m    402\u001b[0m     \u001b[0;32melse\u001b[0m\u001b[0;34m:\u001b[0m\u001b[0;34m\u001b[0m\u001b[0;34m\u001b[0m\u001b[0m\n\u001b[1;32m    403\u001b[0m         \u001b[0;32mif\u001b[0m \u001b[0mcol_deriv\u001b[0m\u001b[0;34m:\u001b[0m\u001b[0;34m\u001b[0m\u001b[0;34m\u001b[0m\u001b[0m\n",
            "\u001b[0;31merror\u001b[0m: Result from function call is not a proper array of floats."
          ]
        }
      ]
    },
    {
      "cell_type": "code",
      "metadata": {
        "id": "beN02_65s07Z"
      },
      "source": [
        ""
      ],
      "execution_count": 64,
      "outputs": []
    },
    {
      "cell_type": "markdown",
      "metadata": {
        "id": "BA61LKzogcQV"
      },
      "source": [
        "**3)** **a)** Escriba una definición de Python que retorna el valor de $f(x) = a_1x^5 + a_2x^4 + a_3x^3 + a_4x^2 + a_5x + a_6$ teniendo como entrada un arreglo $x$ y los $6$ coeficientes $a_1$, $a_2$, $a_3$, $a_4$, $a_5$ y $a_6$. \n",
        "\n",
        "Haga uso de la definición creada anteriormente, evaluándola para $x$ igual a un arreglo de $100$ números entre $-10$ a $10$ separados de forma equidistante. los $6$ coeficientes a usar serán los $6$ últimos dígitos de su código de estudiante (el último dígito de su código se corresponde con $a_6$ y así sucesivamente). A cada resultado obtenido al evaluar la definición, sumele un número aleatorio diferente usando `10*np.random.randn(100)` (esto generará $100$ números aleatorios (uno para cada uno de sus números) con distribución gaussiana de varianza $10$ y media $0$), claramente, para todo lo anterior **No** necesita ningún tipo de ciclo de Python. Guarde en 2 columnas de un archivo los datos de $x$ y $f(x)$. Suba Este archivo a un nuevo proyecto en su cuenta de GitHub. "
      ]
    },
    {
      "cell_type": "code",
      "metadata": {
        "id": "GrVexXh7k_45"
      },
      "source": [
        "#Respuesta\n",
        "\n",
        "def funcion(x,a1,a2,a3,a4,a5,a6):\n",
        "  return (a1*x**5)+(a2*x**4)+(a3*x**3)+(a4*x**2)+(a5*x) + a6\n",
        "\n",
        "x = np.linspace(-10, 10, 100)\n",
        "#Código: 202015555\n",
        "a6, a5, a4, a3, a2, a1 = 5, 5, 5, 5, 1 , 0\n",
        "f_x = funcion(x,a1,a2,a3,a4,a5,a6) + 10*np.random.randn(100)\n",
        "\n",
        "data3 = np.array((x,f_x)).T\n",
        "np.savetxt(\"file.dat\",data3, fmt= \" %i %10.5f \")\n"
      ],
      "execution_count": 86,
      "outputs": []
    },
    {
      "cell_type": "markdown",
      "metadata": {
        "id": "zEB7p4i3o5v3"
      },
      "source": [
        "**b)** Usando código clone este repositorio de GitHub, lea los datos de su archivo y grafique los datos. Luego ajuste los datos a un polinomio de grado $5$ usando la librería Scipy. Grafique sus datos y sobre estos grafique el polinomio de ajuste. Evalúe el polinomio encontrado para $x=0$, $x=10$ y $x=15$. "
      ]
    },
    {
      "cell_type": "code",
      "metadata": {
        "id": "37wb3B7SwzMj"
      },
      "source": [
        "#Respuesta\n"
      ],
      "execution_count": null,
      "outputs": []
    }
  ]
}